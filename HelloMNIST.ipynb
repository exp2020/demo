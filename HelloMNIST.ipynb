{
  "nbformat": 4,
  "nbformat_minor": 0,
  "metadata": {
    "accelerator": "GPU",
    "colab": {
      "name": "HelloMNIST.ipynb",
      "provenance": [],
      "mount_file_id": "1vkErCYNjRVJEQ9KWSFo9G9w9ei_TJiZN",
      "authorship_tag": "ABX9TyNDeIzPdUoPkG/Az6g21WpF",
      "include_colab_link": true
    },
    "kernelspec": {
      "display_name": "Python 3",
      "name": "python3"
    }
  },
  "cells": [
    {
      "cell_type": "markdown",
      "metadata": {
        "id": "view-in-github",
        "colab_type": "text"
      },
      "source": [
        "<a href=\"https://colab.research.google.com/github/samsay20/demo/blob/master/HelloMNIST.ipynb\" target=\"_parent\"><img src=\"https://colab.research.google.com/assets/colab-badge.svg\" alt=\"Open In Colab\"/></a>"
      ]
    },
    {
      "cell_type": "code",
      "metadata": {
        "id": "GvckmWlHP9Dx"
      },
      "source": [
        "import numpy as np\n",
        "import pandas as pd"
      ],
      "execution_count": 2,
      "outputs": []
    },
    {
      "cell_type": "code",
      "metadata": {
        "id": "Z6Hg9bN8QODf"
      },
      "source": [
        "import tensorflow as tf\n"
      ],
      "execution_count": 3,
      "outputs": []
    },
    {
      "cell_type": "code",
      "metadata": {
        "id": "5-Wz9bDWQHc9"
      },
      "source": [
        "from tensorflow.keras.datasets import mnist"
      ],
      "execution_count": 4,
      "outputs": []
    },
    {
      "cell_type": "code",
      "metadata": {
        "colab": {
          "base_uri": "https://localhost:8080/"
        },
        "id": "U9N1Ym8mQLVq",
        "outputId": "3f3e9732-6fd1-4b13-d8f3-05cd18e0c7e0"
      },
      "source": [
        "(x_train, y_train), (x_test, y_test) = mnist.load_data('/tmp/datasets')"
      ],
      "execution_count": 5,
      "outputs": [
        {
          "output_type": "stream",
          "text": [
            "Downloading data from https://storage.googleapis.com/tensorflow/tf-keras-datasets/mnist.npz\n",
            "11493376/11490434 [==============================] - 0s 0us/step\n"
          ],
          "name": "stdout"
        }
      ]
    },
    {
      "cell_type": "code",
      "metadata": {
        "colab": {
          "base_uri": "https://localhost:8080/"
        },
        "id": "lY_zv6gWQUHB",
        "outputId": "7121282f-0082-4f5d-8d29-be66c84723e5"
      },
      "source": [
        "x_train.shape, y_train.shape, x_test.shape, y_test.shape\n"
      ],
      "execution_count": 6,
      "outputs": [
        {
          "output_type": "execute_result",
          "data": {
            "text/plain": [
              "((60000, 28, 28), (60000,), (10000, 28, 28), (10000,))"
            ]
          },
          "metadata": {
            "tags": []
          },
          "execution_count": 6
        }
      ]
    },
    {
      "cell_type": "code",
      "metadata": {
        "id": "MPjn_frHQ562"
      },
      "source": [
        "from tensorflow.keras.models import Sequential"
      ],
      "execution_count": 7,
      "outputs": []
    },
    {
      "cell_type": "code",
      "metadata": {
        "id": "M0DDFcx-RiWW"
      },
      "source": [
        "train_ds = tf.data.Dataset.from_tensor_slices((x_train, y_train))\n",
        "test_ds = tf.data.Dataset.from_tensor_slices((x_test, y_test))"
      ],
      "execution_count": 8,
      "outputs": []
    },
    {
      "cell_type": "code",
      "metadata": {
        "id": "gXx-PJ4vSTtt"
      },
      "source": [
        "def normalize(x, y):\n",
        "  x = tf.cast(x, tf.float32)\n",
        "  x = x/255.\n",
        "  x = tf.expand_dims(x, -1)\n",
        "  y = tf.one_hot(y, depth = 10)\n",
        "  return x, y\n"
      ],
      "execution_count": 9,
      "outputs": []
    },
    {
      "cell_type": "code",
      "metadata": {
        "colab": {
          "base_uri": "https://localhost:8080/"
        },
        "id": "PMDDAIyyUGfR",
        "outputId": "cbdf82ef-84f9-4fe2-aaf7-5bc2dd98ddce"
      },
      "source": [
        "train_ds = train_ds.map(normalize).batch(32)\n",
        "test_ds = test_ds.map(normalize).batch(32)\n",
        "train_ds, test_ds"
      ],
      "execution_count": 10,
      "outputs": [
        {
          "output_type": "execute_result",
          "data": {
            "text/plain": [
              "(<BatchDataset shapes: ((None, 28, 28, 1), (None, 10)), types: (tf.float32, tf.float32)>,\n",
              " <BatchDataset shapes: ((None, 28, 28, 1), (None, 10)), types: (tf.float32, tf.float32)>)"
            ]
          },
          "metadata": {
            "tags": []
          },
          "execution_count": 10
        }
      ]
    },
    {
      "cell_type": "code",
      "metadata": {
        "id": "xX6i05B7VPVT"
      },
      "source": [
        "model = Sequential([\n",
        "    tf.keras.layers.Conv2D(16, 3, strides = 2, padding='same', input_shape = (28, 28, 1), activation = 'relu'),\n",
        "    tf.keras.layers.Conv2D(32, 3, strides = 2, padding = 'same', activation = 'relu'),\n",
        "    tf.keras.layers.Conv2D(64, 3, strides = 2, padding = 'same', activation = 'relu'),\n",
        "    tf.keras.layers.Flatten(),\n",
        "    tf.keras.layers.Dense(256, activation = 'relu'),\n",
        "    tf.keras.layers.Dense(10, activation = 'softmax')\n",
        "]\n",
        ")"
      ],
      "execution_count": 11,
      "outputs": []
    },
    {
      "cell_type": "code",
      "metadata": {
        "colab": {
          "base_uri": "https://localhost:8080/"
        },
        "id": "-kqEUZKwWcZb",
        "outputId": "8a95d800-b74c-4eaa-f17a-3fef68ab697d"
      },
      "source": [
        "model.summary()"
      ],
      "execution_count": 12,
      "outputs": [
        {
          "output_type": "stream",
          "text": [
            "Model: \"sequential\"\n",
            "_________________________________________________________________\n",
            "Layer (type)                 Output Shape              Param #   \n",
            "=================================================================\n",
            "conv2d (Conv2D)              (None, 14, 14, 16)        160       \n",
            "_________________________________________________________________\n",
            "conv2d_1 (Conv2D)            (None, 7, 7, 32)          4640      \n",
            "_________________________________________________________________\n",
            "conv2d_2 (Conv2D)            (None, 4, 4, 64)          18496     \n",
            "_________________________________________________________________\n",
            "flatten (Flatten)            (None, 1024)              0         \n",
            "_________________________________________________________________\n",
            "dense (Dense)                (None, 256)               262400    \n",
            "_________________________________________________________________\n",
            "dense_1 (Dense)              (None, 10)                2570      \n",
            "=================================================================\n",
            "Total params: 288,266\n",
            "Trainable params: 288,266\n",
            "Non-trainable params: 0\n",
            "_________________________________________________________________\n"
          ],
          "name": "stdout"
        }
      ]
    },
    {
      "cell_type": "code",
      "metadata": {
        "id": "rV-QSeZJWqpf"
      },
      "source": [
        "opt = tf.keras.optimizers.Adam()\n",
        "loss = 'categorical_crossentropy'"
      ],
      "execution_count": 13,
      "outputs": []
    },
    {
      "cell_type": "code",
      "metadata": {
        "id": "tcWun2x4XORv"
      },
      "source": [
        "model.compile(optimizer=opt, loss=loss, metrics = ['accuracy'])"
      ],
      "execution_count": 14,
      "outputs": []
    },
    {
      "cell_type": "code",
      "metadata": {
        "colab": {
          "base_uri": "https://localhost:8080/"
        },
        "id": "FCRtfJxSW-X_",
        "outputId": "12a62f09-b3bf-44b9-8826-060354581c14"
      },
      "source": [
        "history = model.fit(train_ds, epochs = 5, validation_data=test_ds)"
      ],
      "execution_count": 15,
      "outputs": [
        {
          "output_type": "stream",
          "text": [
            "Epoch 1/5\n",
            "1875/1875 [==============================] - 7s 4ms/step - loss: 0.1737 - accuracy: 0.9469 - val_loss: 0.0994 - val_accuracy: 0.9673\n",
            "Epoch 2/5\n",
            "1875/1875 [==============================] - 7s 4ms/step - loss: 0.0622 - accuracy: 0.9808 - val_loss: 0.0547 - val_accuracy: 0.9815\n",
            "Epoch 3/5\n",
            "1875/1875 [==============================] - 7s 4ms/step - loss: 0.0400 - accuracy: 0.9875 - val_loss: 0.0541 - val_accuracy: 0.9828\n",
            "Epoch 4/5\n",
            "1875/1875 [==============================] - 7s 4ms/step - loss: 0.0278 - accuracy: 0.9917 - val_loss: 0.0562 - val_accuracy: 0.9831\n",
            "Epoch 5/5\n",
            "1875/1875 [==============================] - 7s 4ms/step - loss: 0.0220 - accuracy: 0.9931 - val_loss: 0.0558 - val_accuracy: 0.9849\n"
          ],
          "name": "stdout"
        }
      ]
    },
    {
      "cell_type": "code",
      "metadata": {
        "id": "9Ypo3XbkXYw6",
        "colab": {
          "base_uri": "https://localhost:8080/"
        },
        "outputId": "2248afc7-3135-42e8-f096-5503e26687d6"
      },
      "source": [
        "history.history['accuracy']"
      ],
      "execution_count": 21,
      "outputs": [
        {
          "output_type": "execute_result",
          "data": {
            "text/plain": [
              "[0.9468833208084106,\n",
              " 0.9807666540145874,\n",
              " 0.9874833226203918,\n",
              " 0.9916666746139526,\n",
              " 0.9930999875068665]"
            ]
          },
          "metadata": {
            "tags": []
          },
          "execution_count": 21
        }
      ]
    },
    {
      "cell_type": "code",
      "metadata": {
        "id": "of6dzxhnoria"
      },
      "source": [
        ""
      ],
      "execution_count": 15,
      "outputs": []
    }
  ]
}